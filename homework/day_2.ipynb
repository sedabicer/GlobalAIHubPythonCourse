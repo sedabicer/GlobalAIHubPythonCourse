{
  "nbformat": 4,
  "nbformat_minor": 0,
  "metadata": {
    "colab": {
      "name": "day_2.ipynb",
      "provenance": [],
      "authorship_tag": "ABX9TyNZ3UE5+nO2xBlWQUm/F9L3",
      "include_colab_link": true
    },
    "kernelspec": {
      "name": "python3",
      "display_name": "Python 3"
    }
  },
  "cells": [
    {
      "cell_type": "markdown",
      "metadata": {
        "id": "view-in-github",
        "colab_type": "text"
      },
      "source": [
        "<a href=\"https://colab.research.google.com/github/sedabicer/GlobalAIHubPythonCourse/blob/main/homework/day_2.ipynb\" target=\"_parent\"><img src=\"https://colab.research.google.com/assets/colab-badge.svg\" alt=\"Open In Colab\"/></a>"
      ]
    },
    {
      "cell_type": "markdown",
      "metadata": {
        "id": "ni1ga3NP3tG6"
      },
      "source": [
        "#Day - 2:\r\n",
        "\r\n",
        "##1.Create a List and swap the second half of the list with the first half of the list and print this list on the screen."
      ]
    },
    {
      "cell_type": "code",
      "metadata": {
        "colab": {
          "base_uri": "https://localhost:8080/"
        },
        "id": "7yQO5VC824xa",
        "outputId": "8cccb674-d2c0-40b2-c0c6-bae78df0aa25"
      },
      "source": [
        "list1= ['1','2','3','4','5','6']\r\n",
        "a=int(len(list1)/2)\r\n",
        "\r\n",
        "list2 = list1[:a]\r\n",
        "list3=  list1[a:]\r\n",
        "list3+=list2\r\n",
        "\r\n",
        "print(list3)"
      ],
      "execution_count": 5,
      "outputs": [
        {
          "output_type": "stream",
          "text": [
            "['4', '5', '6', '1', '2', '3']\n"
          ],
          "name": "stdout"
        }
      ]
    },
    {
      "cell_type": "markdown",
      "metadata": {
        "id": "r0BVLas84sBS"
      },
      "source": [
        "##2. Ask the user to input a single digit integer to a variable 'n'. Then, print out all of the even numbers from 0 to n (including n)."
      ]
    },
    {
      "cell_type": "code",
      "metadata": {
        "colab": {
          "base_uri": "https://localhost:8080/"
        },
        "id": "jCkvHpGv48Fx",
        "outputId": "2e028b90-0773-4ea9-a300-dd867ce3b865"
      },
      "source": [
        "limit=int(input(\"Enter a single digit variable:\"))\r\n",
        "i=0\r\n",
        "while i<=limit:\r\n",
        "    if i%2==0:\r\n",
        "        print(i)\r\n",
        "    i+=1"
      ],
      "execution_count": 4,
      "outputs": [
        {
          "output_type": "stream",
          "text": [
            "Enter a single digit variable:5\n",
            "0\n",
            "2\n",
            "4\n"
          ],
          "name": "stdout"
        }
      ]
    }
  ]
}