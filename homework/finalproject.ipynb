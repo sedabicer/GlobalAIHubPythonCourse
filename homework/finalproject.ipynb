{
  "nbformat": 4,
  "nbformat_minor": 0,
  "metadata": {
    "colab": {
      "name": "finalproject.ipynb",
      "provenance": [],
      "authorship_tag": "ABX9TyMjlsLHs6SOUh6QxobVFA7s",
      "include_colab_link": true
    },
    "kernelspec": {
      "name": "python3",
      "display_name": "Python 3"
    }
  },
  "cells": [
    {
      "cell_type": "markdown",
      "metadata": {
        "id": "view-in-github",
        "colab_type": "text"
      },
      "source": [
        "<a href=\"https://colab.research.google.com/github/sedabicer/GlobalAIHubPythonCourse/blob/main/homework/finalproject.ipynb\" target=\"_parent\"><img src=\"https://colab.research.google.com/assets/colab-badge.svg\" alt=\"Open In Colab\"/></a>"
      ]
    },
    {
      "cell_type": "markdown",
      "metadata": {
        "id": "0xnRtl5pj_QF"
      },
      "source": [
        "#Final Project:#\r\n",
        "\r\n",
        "*Company Management System: Determine the names, and ages of employees, company managersi and the languages they can speak. Then write a program that will print the languages that any of the employees can speak. In this project, complete the project by creating two classes named employees and manager.*"
      ]
    },
    {
      "cell_type": "code",
      "metadata": {
        "id": "vYWrUkF-h4YW"
      },
      "source": [
        "\r\n",
        "class Employee:\r\n",
        "\r\n",
        "    def __init__(self, name, lname, age,languages):\r\n",
        "        self.name = name\r\n",
        "        self.lname = lname\r\n",
        "        self.age = age\r\n",
        "        self.languages=[]\r\n",
        "\r\n",
        "    def welcomePerson(self):\r\n",
        "       print(\"Hello\",self.name,self.lname)\r\n",
        "\r\n",
        "    def showAge(self):\r\n",
        "       print(\"{} is {} years old\".format(self.name,self.age))\r\n",
        "\r\n",
        "    def myLanguages(self,languages):\r\n",
        "\r\n",
        "      self.languages.append(languages)\r\n",
        "      print(languages)\r\n",
        "\r\n",
        "    def showInfo(self):\r\n",
        "\r\n",
        "     print(\"{} is {} years old\".format(self.name,self.age))\r\n",
        "     print(\"He/she can speak:\")\r\n",
        "     for i in self.languages:\r\n",
        "        print(i)"
      ],
      "execution_count": 10,
      "outputs": []
    },
    {
      "cell_type": "code",
      "metadata": {
        "colab": {
          "base_uri": "https://localhost:8080/"
        },
        "id": "XMjA-YDTiOHF",
        "outputId": "a780f58e-901f-4627-a959-656200436129"
      },
      "source": [
        "employee1 = Employee(\"Sam\", \"John\",\"24\",\"English\")\r\n",
        "employee1.welcomePerson()"
      ],
      "execution_count": 4,
      "outputs": [
        {
          "output_type": "stream",
          "text": [
            "Hello Sam John\n"
          ],
          "name": "stdout"
        }
      ]
    },
    {
      "cell_type": "code",
      "metadata": {
        "colab": {
          "base_uri": "https://localhost:8080/"
        },
        "id": "FqyeILTOiTcl",
        "outputId": "e6d6158f-7370-40f8-c211-5d089d429c4d"
      },
      "source": [
        "employee1.showAge()"
      ],
      "execution_count": 5,
      "outputs": [
        {
          "output_type": "stream",
          "text": [
            "Sam is 24 years old\n"
          ],
          "name": "stdout"
        }
      ]
    },
    {
      "cell_type": "code",
      "metadata": {
        "colab": {
          "base_uri": "https://localhost:8080/"
        },
        "id": "Sn9WAv41iVkd",
        "outputId": "d31f6617-7475-483b-837f-d2f2328ad56b"
      },
      "source": [
        "employee1.myLanguages(\"Spanish\")"
      ],
      "execution_count": 22,
      "outputs": [
        {
          "output_type": "stream",
          "text": [
            "Spanish\n"
          ],
          "name": "stdout"
        }
      ]
    },
    {
      "cell_type": "code",
      "metadata": {
        "colab": {
          "base_uri": "https://localhost:8080/"
        },
        "id": "MtkBb9OiibsF",
        "outputId": "84d09637-7df3-47d9-b356-17c25962f572"
      },
      "source": [
        "employee1.myLanguages(\"German\")"
      ],
      "execution_count": 8,
      "outputs": [
        {
          "output_type": "stream",
          "text": [
            "German\n"
          ],
          "name": "stdout"
        }
      ]
    },
    {
      "cell_type": "code",
      "metadata": {
        "colab": {
          "base_uri": "https://localhost:8080/"
        },
        "id": "s0X3M12fifX9",
        "outputId": "70e9478c-d6c5-42b8-a2fd-5066f645e90e"
      },
      "source": [
        "employee1.showInfo()"
      ],
      "execution_count": 23,
      "outputs": [
        {
          "output_type": "stream",
          "text": [
            "Sam is 24 years old\n",
            "He/she can speak:\n",
            "English\n",
            "German\n",
            "English\n",
            "Spanish\n"
          ],
          "name": "stdout"
        }
      ]
    },
    {
      "cell_type": "code",
      "metadata": {
        "id": "tjCpXcGVisfl"
      },
      "source": [
        "\r\n",
        "class Manager:\r\n",
        "\r\n",
        "    def __init__(self, name, lname, age,languages):\r\n",
        "        self.name = name\r\n",
        "        self.lname = lname\r\n",
        "        self.age = age\r\n",
        "        self.languages=[]\r\n",
        "\r\n",
        "    def welcomePerson(self):\r\n",
        "       print(\"Hello\",self.name,self.lname)\r\n",
        "\r\n",
        "    def showAge(self):\r\n",
        "       print(\"{} is {} years old\".format(self.name,self.age))\r\n",
        "\r\n",
        "    def myLanguages(self,languages):\r\n",
        "\r\n",
        "      self.languages.append(languages)\r\n",
        "      print(languages)\r\n",
        "\r\n",
        "    def showInfo(self):\r\n",
        "\r\n",
        "     print(\"{} is {} years old\".format(self.name,self.age))\r\n",
        "     print(\"He/she can speak:\")\r\n",
        "     for i in self.languages:\r\n",
        "        print(i)"
      ],
      "execution_count": 11,
      "outputs": []
    },
    {
      "cell_type": "code",
      "metadata": {
        "colab": {
          "base_uri": "https://localhost:8080/"
        },
        "id": "8SbjAcV_iziu",
        "outputId": "a4a1c7f8-a17c-4f59-d287-563ef0725b84"
      },
      "source": [
        "manager1 = Employee(\"Julia\", \"Fox\",\"30\",\"English\")\r\n",
        "manager1.welcomePerson()"
      ],
      "execution_count": 14,
      "outputs": [
        {
          "output_type": "stream",
          "text": [
            "Hello Julia Fox\n"
          ],
          "name": "stdout"
        }
      ]
    },
    {
      "cell_type": "code",
      "metadata": {
        "colab": {
          "base_uri": "https://localhost:8080/"
        },
        "id": "qyjE4fbYjGpf",
        "outputId": "6f62ceec-0bd7-4022-eefd-fdc057236e7a"
      },
      "source": [
        "manager1.showAge()"
      ],
      "execution_count": 15,
      "outputs": [
        {
          "output_type": "stream",
          "text": [
            "Julia is 30 years old\n"
          ],
          "name": "stdout"
        }
      ]
    },
    {
      "cell_type": "code",
      "metadata": {
        "colab": {
          "base_uri": "https://localhost:8080/"
        },
        "id": "uEV-Ca5NjP_N",
        "outputId": "f63bf1f2-19cd-4862-db07-59e4fdd8248c"
      },
      "source": [
        "manager1.myLanguages(\"German\")"
      ],
      "execution_count": 18,
      "outputs": [
        {
          "output_type": "stream",
          "text": [
            "German\n"
          ],
          "name": "stdout"
        }
      ]
    },
    {
      "cell_type": "code",
      "metadata": {
        "colab": {
          "base_uri": "https://localhost:8080/"
        },
        "id": "b2QS13N7jVOV",
        "outputId": "e2d1f564-731c-48e1-e026-a54ad9b4882a"
      },
      "source": [
        "manager1.myLanguages(\"Italian\")"
      ],
      "execution_count": 19,
      "outputs": [
        {
          "output_type": "stream",
          "text": [
            "Italian\n"
          ],
          "name": "stdout"
        }
      ]
    },
    {
      "cell_type": "code",
      "metadata": {
        "colab": {
          "base_uri": "https://localhost:8080/"
        },
        "id": "0LCW8ri4jfWP",
        "outputId": "9156f1c4-2667-4dee-d161-c05cd9ed0ca8"
      },
      "source": [
        "manager1.showInfo()"
      ],
      "execution_count": 21,
      "outputs": [
        {
          "output_type": "stream",
          "text": [
            "Julia is 30 years old\n",
            "He/she can speak:\n",
            "English\n",
            "German\n",
            "Italian\n"
          ],
          "name": "stdout"
        }
      ]
    }
  ]
}