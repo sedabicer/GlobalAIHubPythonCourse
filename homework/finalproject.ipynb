{
  "nbformat": 4,
  "nbformat_minor": 0,
  "metadata": {
    "colab": {
      "name": "finalproject.ipynb",
      "provenance": [],
      "authorship_tag": "ABX9TyPxOF+3AA/erUO/ol92fMRv",
      "include_colab_link": true
    },
    "kernelspec": {
      "name": "python3",
      "display_name": "Python 3"
    }
  },
  "cells": [
    {
      "cell_type": "markdown",
      "metadata": {
        "id": "view-in-github",
        "colab_type": "text"
      },
      "source": [
        "<a href=\"https://colab.research.google.com/github/sedabicer/GlobalAIHubPythonCourse/blob/main/homework/finalproject.ipynb\" target=\"_parent\"><img src=\"https://colab.research.google.com/assets/colab-badge.svg\" alt=\"Open In Colab\"/></a>"
      ]
    },
    {
      "cell_type": "markdown",
      "metadata": {
        "id": "Qp__C3elGs9X"
      },
      "source": [
        "#Final Project:#\r\n",
        "\r\n",
        "*Company Management System: Determine the names, and ages of employees, company managersi and the languages they can speak. Then write a program that will print the languages that any of the employees can speak. In this project, complete the project by creating two classes named employees and manager.*"
      ]
    },
    {
      "cell_type": "code",
      "metadata": {
        "id": "jyutwT1bAnF4"
      },
      "source": [
        "class Company_Management_System:\r\n",
        "  def __init__(self, name, lname, age, company_manager,language):\r\n",
        "\r\n",
        "        self.name = name\r\n",
        "        self.lname = lname\r\n",
        "        self.age = age\r\n",
        "        self.company_manager=company_manager\r\n",
        "        self.languages=[]\r\n",
        "\r\n",
        "  def welcomePerson(self):\r\n",
        "       print(\"Hello\",self.name,self.lname)\r\n",
        "\r\n",
        "  def showAge(self):\r\n",
        "      print(\"{} is {} years old\".format(self.name,self.age))\r\n",
        "    \r\n",
        "  def companyManager(self):\r\n",
        "      print(\"{} is his/her company manager\".format(self.company_manager))\r\n",
        "\r\n",
        "  def myLanguages(self,languages):\r\n",
        "     self.languages.append(languages)\r\n",
        "     print(languages)\r\n",
        "\r\n",
        "  def showInfo(self):\r\n",
        "     print(\"{} is {} years old\".format(self.name,self.age))\r\n",
        "     print(\"{} is he/she company manager\".format(self.company_manager))\r\n",
        "     print(\"He/she can speak:\")\r\n",
        "     for i in self.languages:\r\n",
        "        print(i)\r\n",
        "  \r\n",
        "  def manager(self):\r\n",
        "     print(\"Hello\",self.company_manager)\r\n"
      ],
      "execution_count": 92,
      "outputs": []
    },
    {
      "cell_type": "code",
      "metadata": {
        "colab": {
          "base_uri": "https://localhost:8080/"
        },
        "id": "YT8r9uYVN5bX",
        "outputId": "a492686d-1de0-4b32-8c7f-5dfdf20d744c"
      },
      "source": [
        "class Employee(Company_Management_System):\r\n",
        "  pass\r\n",
        "\r\n",
        "employee1 = Employee(\"Sam\", \"John\",\"24\",\"Julia\",\"English\")\r\n",
        "employee.welcomePerson()\r\n",
        "\r\n"
      ],
      "execution_count": 93,
      "outputs": [
        {
          "output_type": "stream",
          "text": [
            "Hello Sam John\n"
          ],
          "name": "stdout"
        }
      ]
    },
    {
      "cell_type": "code",
      "metadata": {
        "colab": {
          "base_uri": "https://localhost:8080/"
        },
        "id": "EkZnVCMzQRPt",
        "outputId": "33211203-42e6-4386-a73d-dbffaa34ed80"
      },
      "source": [
        "employee1.showAge()"
      ],
      "execution_count": 94,
      "outputs": [
        {
          "output_type": "stream",
          "text": [
            "Sam is 24 years old\n"
          ],
          "name": "stdout"
        }
      ]
    },
    {
      "cell_type": "code",
      "metadata": {
        "colab": {
          "base_uri": "https://localhost:8080/"
        },
        "id": "RGHrKun8TXR4",
        "outputId": "f4dd2ca9-e269-4f9c-c3bb-bd86853a2246"
      },
      "source": [
        "employee1.companyManager()"
      ],
      "execution_count": 95,
      "outputs": [
        {
          "output_type": "stream",
          "text": [
            "Julia is his/her company manager\n"
          ],
          "name": "stdout"
        }
      ]
    },
    {
      "cell_type": "code",
      "metadata": {
        "colab": {
          "base_uri": "https://localhost:8080/"
        },
        "id": "sunBdKIqUu7n",
        "outputId": "d94a0361-e1b5-4f3f-8d35-8da9b58d47fa"
      },
      "source": [
        "employee1.myLanguages(\"English\")"
      ],
      "execution_count": 96,
      "outputs": [
        {
          "output_type": "stream",
          "text": [
            "English\n"
          ],
          "name": "stdout"
        }
      ]
    },
    {
      "cell_type": "code",
      "metadata": {
        "colab": {
          "base_uri": "https://localhost:8080/"
        },
        "id": "QgBIuHIOWOj9",
        "outputId": "f1533174-9c60-4e19-8d0e-abe307a4b348"
      },
      "source": [
        "employee1.myLanguages(\"German\")"
      ],
      "execution_count": 97,
      "outputs": [
        {
          "output_type": "stream",
          "text": [
            "German\n"
          ],
          "name": "stdout"
        }
      ]
    },
    {
      "cell_type": "code",
      "metadata": {
        "colab": {
          "base_uri": "https://localhost:8080/"
        },
        "id": "vzvMZbP8WcGl",
        "outputId": "30d403b0-b27d-41d2-b403-c09a93576e81"
      },
      "source": [
        "employee1.showInfo()"
      ],
      "execution_count": 98,
      "outputs": [
        {
          "output_type": "stream",
          "text": [
            "Sam is 24 years old\n",
            "Julia is he/she company manager\n",
            "He/she can speak:\n",
            "English\n",
            "German\n"
          ],
          "name": "stdout"
        }
      ]
    },
    {
      "cell_type": "code",
      "metadata": {
        "colab": {
          "base_uri": "https://localhost:8080/"
        },
        "id": "rZ3PMTAaW5dA",
        "outputId": "fb74cb25-57f8-43b8-c818-4643ee8662de"
      },
      "source": [
        "class Manager(Company_Management_System):\r\n",
        "  pass\r\n",
        "employee1.manager()"
      ],
      "execution_count": 99,
      "outputs": [
        {
          "output_type": "stream",
          "text": [
            "Hello Julia\n"
          ],
          "name": "stdout"
        }
      ]
    }
  ]
}