{
  "nbformat": 4,
  "nbformat_minor": 0,
  "metadata": {
    "colab": {
      "name": "day5.ipynb",
      "provenance": [],
      "collapsed_sections": [],
      "authorship_tag": "ABX9TyNFYUwYoKXUidmO3aDwSBna",
      "include_colab_link": true
    },
    "kernelspec": {
      "name": "python3",
      "display_name": "Python 3"
    }
  },
  "cells": [
    {
      "cell_type": "markdown",
      "metadata": {
        "id": "view-in-github",
        "colab_type": "text"
      },
      "source": [
        "<a href=\"https://colab.research.google.com/github/sedabicer/GlobalAIHubPythonCourse/blob/main/homework/day5.ipynb\" target=\"_parent\"><img src=\"https://colab.research.google.com/assets/colab-badge.svg\" alt=\"Open In Colab\"/></a>"
      ]
    },
    {
      "cell_type": "markdown",
      "metadata": {
        "id": "l5u4pmYJylEM"
      },
      "source": [
        "##Day-5:##\r\n",
        "\r\n",
        "*Create three classes names Animals, Dogs and Cats. Add some features to these classes. Create some functions with these attributes. Don't forget! You have to do it using inheritance.*"
      ]
    },
    {
      "cell_type": "code",
      "metadata": {
        "id": "FxpA1_ehyhQC"
      },
      "source": [
        "class Animals:\r\n",
        "  def __init__(self,name):\r\n",
        "    self.kind_name=name\r\n",
        "    self.add_kind_name=[]\r\n",
        "\r\n",
        "  def print_name(self):\r\n",
        "    print(self.kind_name)\r\n",
        "\r\n",
        "  def new_kind_name(self,new_name):\r\n",
        "    self.add_kind_name.append(new_name)\r\n",
        "    print(self.add_kind_name)\r\n",
        "  \r\n",
        "\r\n",
        "  def showInfo(self):\r\n",
        "        print(\"{}\".format(self.kind_name))\r\n",
        "        for i in self.add_kind_name:\r\n",
        "              print(i)"
      ],
      "execution_count": 58,
      "outputs": []
    },
    {
      "cell_type": "code",
      "metadata": {
        "colab": {
          "base_uri": "https://localhost:8080/"
        },
        "id": "fn5pthjY1Cze",
        "outputId": "74ec4a24-d0fb-47ac-8a7b-f32efc16e469"
      },
      "source": [
        "class Dogs(Animals):\r\n",
        "  pass\r\n",
        "\r\n",
        "dogs=Dogs(\"Pitbull\")\r\n",
        "dogs.print_name()\r\n"
      ],
      "execution_count": 59,
      "outputs": [
        {
          "output_type": "stream",
          "text": [
            "Pitbull\n"
          ],
          "name": "stdout"
        }
      ]
    },
    {
      "cell_type": "code",
      "metadata": {
        "colab": {
          "base_uri": "https://localhost:8080/"
        },
        "id": "BqnC5KgB59_8",
        "outputId": "46cabb9c-a7c6-4ecc-825b-48d8186787de"
      },
      "source": [
        "dogs.new_kind_name(\"Cane Corso\")"
      ],
      "execution_count": 60,
      "outputs": [
        {
          "output_type": "stream",
          "text": [
            "['Cane Corso']\n"
          ],
          "name": "stdout"
        }
      ]
    },
    {
      "cell_type": "code",
      "metadata": {
        "colab": {
          "base_uri": "https://localhost:8080/"
        },
        "id": "6db56zSR8RNW",
        "outputId": "6361eaba-ba08-4e8f-f4fa-8e07371bdcc1"
      },
      "source": [
        "dogs.new_kind_name(\"Dogo Argentino\")"
      ],
      "execution_count": 61,
      "outputs": [
        {
          "output_type": "stream",
          "text": [
            "['Cane Corso', 'Dogo Argentino']\n"
          ],
          "name": "stdout"
        }
      ]
    },
    {
      "cell_type": "code",
      "metadata": {
        "colab": {
          "base_uri": "https://localhost:8080/"
        },
        "id": "Sb43Wyny8ZOs",
        "outputId": "1b1a6e19-3354-4c19-c07f-c4ed6234d458"
      },
      "source": [
        "dogs.new_kind_name(\"Pug\")"
      ],
      "execution_count": 63,
      "outputs": [
        {
          "output_type": "stream",
          "text": [
            "['Cane Corso', 'Dogo Argentino', 'Pug']\n"
          ],
          "name": "stdout"
        }
      ]
    },
    {
      "cell_type": "code",
      "metadata": {
        "colab": {
          "base_uri": "https://localhost:8080/"
        },
        "id": "9KlP2SB57Hd2",
        "outputId": "21830281-9a27-4f26-daae-b89a6789c400"
      },
      "source": [
        "dogs.showInfo()"
      ],
      "execution_count": 64,
      "outputs": [
        {
          "output_type": "stream",
          "text": [
            "Pitbull\n",
            "Cane Corso\n",
            "Dogo Argentino\n",
            "Pug\n"
          ],
          "name": "stdout"
        }
      ]
    },
    {
      "cell_type": "code",
      "metadata": {
        "colab": {
          "base_uri": "https://localhost:8080/"
        },
        "id": "BITt3CBIz4pW",
        "outputId": "86dce4ed-af68-44fe-de41-a21f4008c89b"
      },
      "source": [
        "class Cats(Animals):\r\n",
        "  pass\r\n",
        "\r\n",
        "cats=Cats(\"Scottish Fold\")\r\n",
        "cats.print_name()"
      ],
      "execution_count": 65,
      "outputs": [
        {
          "output_type": "stream",
          "text": [
            "Scottish Fold\n"
          ],
          "name": "stdout"
        }
      ]
    },
    {
      "cell_type": "code",
      "metadata": {
        "colab": {
          "base_uri": "https://localhost:8080/"
        },
        "id": "3KpEA0D38t2t",
        "outputId": "0d99eb44-ec81-482a-9abe-6b558a8cb285"
      },
      "source": [
        "cats.new_kind_name(\"British Shorthair\")"
      ],
      "execution_count": 66,
      "outputs": [
        {
          "output_type": "stream",
          "text": [
            "['British Shorthair']\n"
          ],
          "name": "stdout"
        }
      ]
    },
    {
      "cell_type": "code",
      "metadata": {
        "colab": {
          "base_uri": "https://localhost:8080/"
        },
        "id": "ykog2WAU9Bbv",
        "outputId": "f2d50a09-2f05-4669-9ca6-1a54aed5db51"
      },
      "source": [
        "cats.new_kind_name(\"American Shorthair\")"
      ],
      "execution_count": 67,
      "outputs": [
        {
          "output_type": "stream",
          "text": [
            "['British Shorthair', 'American Shorthair']\n"
          ],
          "name": "stdout"
        }
      ]
    },
    {
      "cell_type": "code",
      "metadata": {
        "colab": {
          "base_uri": "https://localhost:8080/"
        },
        "id": "C5zK691_9mPH",
        "outputId": "f7068ed4-d03d-48d2-e68e-d5f0d4eb164a"
      },
      "source": [
        "cats.new_kind_name(\"Chartreux\")"
      ],
      "execution_count": 68,
      "outputs": [
        {
          "output_type": "stream",
          "text": [
            "['British Shorthair', 'American Shorthair', 'Chartreux']\n"
          ],
          "name": "stdout"
        }
      ]
    },
    {
      "cell_type": "code",
      "metadata": {
        "colab": {
          "base_uri": "https://localhost:8080/"
        },
        "id": "1-_ugwaM-BT0",
        "outputId": "43e46d70-671e-4412-ba2e-ebc0fd5efb55"
      },
      "source": [
        "cats.showInfo()"
      ],
      "execution_count": 69,
      "outputs": [
        {
          "output_type": "stream",
          "text": [
            "Scottish Fold\n",
            "British Shorthair\n",
            "American Shorthair\n",
            "Chartreux\n"
          ],
          "name": "stdout"
        }
      ]
    },
    {
      "cell_type": "code",
      "metadata": {
        "id": "ZA-G_mWZAYNg"
      },
      "source": [
        ""
      ],
      "execution_count": null,
      "outputs": []
    }
  ]
}