{
  "nbformat": 4,
  "nbformat_minor": 0,
  "metadata": {
    "colab": {
      "name": "day4.ipynb",
      "provenance": [],
      "authorship_tag": "ABX9TyOSbyZkAH3JjHXWhmNmjaIX",
      "include_colab_link": true
    },
    "kernelspec": {
      "name": "python3",
      "display_name": "Python 3"
    }
  },
  "cells": [
    {
      "cell_type": "markdown",
      "metadata": {
        "id": "view-in-github",
        "colab_type": "text"
      },
      "source": [
        "<a href=\"https://colab.research.google.com/github/sedabicer/GlobalAIHubPythonCourse/blob/main/homework/day4.ipynb\" target=\"_parent\"><img src=\"https://colab.research.google.com/assets/colab-badge.svg\" alt=\"Open In Colab\"/></a>"
      ]
    },
    {
      "cell_type": "markdown",
      "metadata": {
        "id": "yX9G2whppArZ"
      },
      "source": [
        "# # Day-4:\r\n",
        "\r\n",
        "Finding prime numbers between 0 and 100 using functions\r\n"
      ]
    },
    {
      "cell_type": "code",
      "metadata": {
        "colab": {
          "base_uri": "https://localhost:8080/"
        },
        "id": "NFsph6Z95A9r",
        "outputId": "077d802e-af26-4731-cfcf-91b40ab4fff0"
      },
      "source": [
        "def prime_numbers():\r\n",
        "    list1=[]\r\n",
        "    n=2\r\n",
        "    count=0\r\n",
        "    while n<101:\r\n",
        "        count=0\r\n",
        "        for m in range(2,n):\r\n",
        "            if (n%m)== 0:\r\n",
        "                count=count+1\r\n",
        "                break\r\n",
        "            m+=1   \r\n",
        "        if(count==0):\r\n",
        "            list1.append(n)\r\n",
        "        n+=1\r\n",
        "    print(list1)\r\n",
        "   \r\n",
        "prime_numbers()"
      ],
      "execution_count": 62,
      "outputs": [
        {
          "output_type": "stream",
          "text": [
            "[2, 3, 5, 7, 11, 13, 17, 19, 23, 29, 31, 37, 41, 43, 47, 53, 59, 61, 67, 71, 73, 79, 83, 89, 97]\n"
          ],
          "name": "stdout"
        }
      ]
    }
  ]
}