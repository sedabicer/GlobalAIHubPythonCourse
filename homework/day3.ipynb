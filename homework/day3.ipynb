{
  "nbformat": 4,
  "nbformat_minor": 0,
  "metadata": {
    "colab": {
      "name": "day3.ipynb",
      "provenance": [],
      "collapsed_sections": [],
      "authorship_tag": "ABX9TyMWuJPW5sqqz8V5PUOx07LI",
      "include_colab_link": true
    },
    "kernelspec": {
      "name": "python3",
      "display_name": "Python 3"
    }
  },
  "cells": [
    {
      "cell_type": "markdown",
      "metadata": {
        "id": "view-in-github",
        "colab_type": "text"
      },
      "source": [
        "<a href=\"https://colab.research.google.com/github/sedabicer/GlobalAIHubPythonCourse/blob/main/homework/day3.ipynb\" target=\"_parent\"><img src=\"https://colab.research.google.com/assets/colab-badge.svg\" alt=\"Open In Colab\"/></a>"
      ]
    },
    {
      "cell_type": "markdown",
      "metadata": {
        "id": "8cm6wQKZi5rq"
      },
      "source": [
        "# *User login application:*\r\n",
        "\r\n",
        "- Get Username and Password values from the user.\r\n",
        "\r\n",
        "- Check the values in an if statement and tell the user if they were sucessful.\r\n"
      ]
    },
    {
      "cell_type": "code",
      "metadata": {
        "colab": {
          "base_uri": "https://localhost:8080/"
        },
        "id": "oyOEqRbihP3H",
        "outputId": "7260e57a-5bef-4cc6-a3c7-4b0a7a5475e6"
      },
      "source": [
        "user_name = \"admin\"\r\n",
        "password =\"abc123\"\r\n",
        "\r\n",
        "user_name1 =input(\"Please enter your user name: \")\r\n",
        "\r\n",
        "password1= input(\"Please enter your password: \")\r\n",
        "\r\n",
        "if (user_name != user_name1 and password == password1):\r\n",
        "    print(\"Invalid username\")\r\n",
        "elif (user_name==user_name1 and password != password1):\r\n",
        "    print(\"Invalid Password\")\r\n",
        "elif (user_name != user_name1 and password!= password1):\r\n",
        "    print(\"Invalid username and password\")\r\n",
        "else:\r\n",
        "    print(\"You are now logged in...\")"
      ],
      "execution_count": 9,
      "outputs": [
        {
          "output_type": "stream",
          "text": [
            "Please enter your user name: admin\n",
            "Please enter your password: abc123\n",
            "You are now logged in...\n"
          ],
          "name": "stdout"
        }
      ]
    },
    {
      "cell_type": "markdown",
      "metadata": {
        "id": "BJgAofO5jONy"
      },
      "source": [
        "# *Extra*:\r\n",
        "- Try building the same user login application but this time, use a dictonary!"
      ]
    },
    {
      "cell_type": "code",
      "metadata": {
        "colab": {
          "base_uri": "https://localhost:8080/"
        },
        "id": "AXhNomK9l2wT",
        "outputId": "a93ca993-6a7f-44d8-d2bb-d513eafc4339"
      },
      "source": [
        "dic={\"user_name\":\"admin\",\"password\":\"abc123\"}\r\n",
        "\r\n",
        "username =input(\"Please enter your username: \")\r\n",
        "password= input(\"Please enter your password: \")\r\n",
        "\r\n",
        "user_name=dic[\"user_name\"]\r\n",
        "user_password=dic[\"password\"]\r\n",
        "\r\n",
        "if (username != user_name and password == user_password):\r\n",
        "    print(\"Invalid Username\")\r\n",
        "elif (username == user_name and password != user_password):\r\n",
        "    print(\"Invalid Password\")\r\n",
        "elif (username != user_name and password != user_password):\r\n",
        "    print(\"Invalid Username and Password\")\r\n",
        "else:\r\n",
        "    print(\"You are now logged in...\")"
      ],
      "execution_count": 19,
      "outputs": [
        {
          "output_type": "stream",
          "text": [
            "Please enter your username: admin\n",
            "Please enter your password: abc123\n",
            "You are now logged in...\n"
          ],
          "name": "stdout"
        }
      ]
    }
  ]
}